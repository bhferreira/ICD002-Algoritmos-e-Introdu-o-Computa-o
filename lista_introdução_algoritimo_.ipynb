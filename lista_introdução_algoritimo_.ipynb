{
  "cells": [
    {
      "cell_type": "markdown",
      "metadata": {
        "id": "view-in-github",
        "colab_type": "text"
      },
      "source": [
        "<a href=\"https://colab.research.google.com/github/bhferreira/ICD002-Algoritmos-e-Introdu-o-Computa-o/blob/main/lista_introdu%C3%A7%C3%A3o_algoritimo_.ipynb\" target=\"_parent\"><img src=\"https://colab.research.google.com/assets/colab-badge.svg\" alt=\"Open In Colab\"/></a>"
      ]
    },
    {
      "cell_type": "markdown",
      "metadata": {
        "id": "qzic6n9o7E0k"
      },
      "source": [
        "# Exercício 1: Escrever código Python para testar os valores das variáveis A à F na tabela e mostrar os resultados no console, para a expressão: Inserir os valores pelo console.\n",
        "\n",
        "# A <= B or not C or D > E and F\n"
      ]
    },
    {
      "cell_type": "code",
      "execution_count": null,
      "metadata": {
        "colab": {
          "base_uri": "https://localhost:8080/"
        },
        "id": "akXmyNYlwpez",
        "outputId": "30113ddf-76f5-409a-b504-a7b836b58bba"
      },
      "outputs": [
        {
          "output_type": "stream",
          "name": "stdout",
          "text": [
            "-3.6\n",
            "-3.59\n",
            "-0.08\n",
            "-0.09\n",
            "O resultado da expressão é True\n"
          ]
        }
      ],
      "source": [
        "A=float(input())\n",
        "B=float(input())\n",
        "D=float(input())\n",
        "E=float(input())\n",
        "print(f'O resultado da expressão é {A <= B or not False or D > E and True}')"
      ]
    },
    {
      "cell_type": "markdown",
      "metadata": {
        "id": "3hncnMUA7nSR"
      },
      "source": [
        "# Exercício 2: Escrever código Python para ler através do console as variáveis: “funcionário”, o nome do funcionário de uma empresa; “idade”, a idade do funcionário; “endereço”, o endereço do funcionário; a variável “função”, o cargo do funcionário e a variável “salário”, o valor do seu salário. Utilizar o comando print para mostrar os resultados no console. Reajustar o salário lido em 25% e mostrar o seu valor atualizado no console."
      ]
    },
    {
      "cell_type": "code",
      "execution_count": null,
      "metadata": {
        "colab": {
          "base_uri": "https://localhost:8080/"
        },
        "id": "P4bIWxna9hoh",
        "outputId": "0822254a-9f54-4d0c-ddb7-f0a87e064824"
      },
      "outputs": [
        {
          "name": "stdout",
          "output_type": "stream",
          "text": [
            "Nome do funcionário: João\n",
            "idade do funcionário: 25\n",
            "Endereço do funcionário: 1° de maio\n",
            "Função do funcionário: Uber\n",
            "Salário do funcionário: 2000\n"
          ]
        }
      ],
      "source": [
        "funcionário=str(input('Nome do funcionário: '))\n",
        "idade= int(input('idade do funcionário: '))\n",
        "endereço=str(input('Endereço do funcionário: '))\n",
        "função=str(input('Função do funcionário: '))\n",
        "salário=int(input('Salário do funcionário: '))\n",
        "\n"
      ]
    },
    {
      "cell_type": "code",
      "execution_count": null,
      "metadata": {
        "colab": {
          "base_uri": "https://localhost:8080/"
        },
        "id": "UkmNuDTY_lG7",
        "outputId": "50a46de7-6c02-474c-aa98-595e5509d4b3"
      },
      "outputs": [
        {
          "output_type": "stream",
          "name": "stdout",
          "text": [
            "Nome do funcionário:João\n",
            "idade: 25\n",
            "endereço: 1° de maio\n",
            "função: Uber\n",
            "salário: R$ 2000.00\n",
            "Nome do funcionário:João\n",
            "idade: 25\n",
            "endereço: 1° de maio\n",
            "função: Uber\n",
            "salário após reajuste de 25%: R$ 2500.00\n"
          ]
        }
      ],
      "source": [
        "print(f'Nome do funcionário:{funcionário}\\n'\n",
        "      f'idade: {idade}\\n'\n",
        "      f'endereço: {endereço}\\n'\n",
        "      f'função: {função}\\n'\n",
        "      f'salário: R$ {salário:.2f}')\n",
        "print(f'Nome do funcionário:{funcionário}\\n'\n",
        "      f'idade: {idade}\\n'\n",
        "      f'endereço: {endereço}\\n'\n",
        "      f'função: {função}\\n'\n",
        "      f'salário após reajuste de 25%: R$ {salário*1.25:.2f}')"
      ]
    },
    {
      "cell_type": "markdown",
      "metadata": {
        "id": "d_XlNcpaP3xt"
      },
      "source": [
        "# Exercício 3:  Em uma compra de supermercado, foram adquiridos os seguintes itens equantidades:\n",
        "\n",
        "- Arroz → 5kg;\n",
        "- Feijão → 3kg;\n",
        "- Açúcar → 2kg;\n",
        "- Batata → 3kg;\n",
        "- Óleo → 5 litros;\n",
        "- Bolacha de Água e Sal → 1 pacote;\n",
        "- Bolacha de Maizena → 1 pacote;\n",
        "- Banana → 1 dúzia e meia;\n",
        "- Couve-Flor → 2 maços;\n",
        "- Leite em Pó → 2 latas de 1kg;\n",
        "- Criar código em Python para inserir os preços por unidade de cada item das compras e depois mostrar estes preços no console; \n",
        "- Calcular o preço total para cada item em função das quantidades, e mostrá-los no console;\n",
        "- Calcular o preço total da compra e mostrá-lo no console;\n",
        "- Estabelecer um limite de preço para o total da compra;\n",
        "- Se o preço da compra for inferior ao limite estabelecido imprimir no console:\n",
        "“pagamento em dinheiro”;\n",
        "- Se o preço da compra for superior ao limite estabelecido imprimir no console:\n",
        "“pagamento em parcelas com uso de cartão”.\n"
      ]
    },
    {
      "cell_type": "code",
      "source": [
        "quant_Arroz = 5\n",
        "preço_Arroz=float(input('Preço do Arroz: R$ '))\n",
        "total_Arroz= quant_Arroz*preço_Arroz\n",
        "quant_Feijão= 3\n",
        "preço_do_feijão=float(input('Preço do Feijão: R$ '))\n",
        "total_feijão=quant_Feijão*preço_do_feijão\n",
        "quant_Açúcar=2\n",
        "preço_do_Açucar=float(input('Preço do Açucar: R$ '))\n",
        "total_Açucar=quant_Açúcar*preço_do_Açucar\n",
        "quant_Batata= 3\n",
        "preço_da_Batata=float(input('Preço da Batata: R$ '))\n",
        "total_Batata=quant_Batata*preço_da_Batata\n",
        "quant_Óleo= 5\n",
        "preço_do_Óleo=float(input('Preço do Óleo: R$ '))\n",
        "total_Óleo=quant_Óleo*preço_do_Óleo\n",
        "quant_Bolacha_de_Água_e_Sal= 1\n",
        "preço_da_Bolacha_de_Água_e_Sal=float(input('Preço da Bolacha de Água e Sal: R$ '))\n",
        "total_Bolacha_de_Água_e_Sal=quant_Bolacha_de_Água_e_Sal*preço_da_Bolacha_de_Água_e_Sal\n",
        "quant_Bolacha_de_Maizena= 1\n",
        "preço_da_Bolacha_de_Maizena=float(input('Preço da Bolacha de Maizena: R$ '))\n",
        "total_Bolacha_de_Maizena=quant_Bolacha_de_Maizena*preço_da_Bolacha_de_Maizena\n",
        "quant_Banana= 1.5\n",
        "preço_da_Banana=float(input('Preço da Banana: R$ '))\n",
        "total_Banana=quant_Banana*preço_da_Banana\n",
        "quant_Couve_Flor= 2\n",
        "preço_da_Couve_Flor= float(input('Preço da Couve Flor: R$ '))\n",
        "total_Couve_Flor=quant_Couve_Flor*preço_da_Couve_Flor\n",
        "quant_Leite_em_Pó= 2\n",
        "preço_do_Leite_em_Pó= float(input('Preço do Leite em Pó: R$ '))\n",
        "total_Leite_em_Pó=quant_Leite_em_Pó*preço_do_Leite_em_Pó\n",
        "Total=total_Arroz+total_feijão+total_Açucar+total_Batata+total_Óleo+total_Bolacha_de_Água_e_Sal+total_Banana+total_Couve_Flor+total_Leite_em_Pó\n",
        "forma_de_pagamento_1= 'Pagamento em dinheiro'\n",
        "forma_de_pagamento_2= 'Pagamento no cartão de crédito e até 6 vezes'"
      ],
      "metadata": {
        "colab": {
          "base_uri": "https://localhost:8080/"
        },
        "id": "yzqGPd81uCrv",
        "outputId": "15cae68d-ee26-4312-bbe3-c22292284e5d"
      },
      "execution_count": null,
      "outputs": [
        {
          "name": "stdout",
          "output_type": "stream",
          "text": [
            "Preço do Arroz: R$ 10\n",
            "Preço do Feijão: R$ 5\n",
            "Preço do Açucar: R$ 3\n",
            "Preço da Batata: R$ 2.5\n",
            "Preço do Óleo: R$ 4\n",
            "Preço da Bolacha de Água e Sal: R$ 1.3\n",
            "Preço da Bolacha de Maizena: R$ 0.5\n",
            "Preço da Banana: R$ 3\n",
            "Preço da Couve Flor: R$ 1\n",
            "Preço do Leite em Pó: R$ 4\n"
          ]
        }
      ]
    },
    {
      "cell_type": "code",
      "source": [
        "if Total < 60:\n",
        "  print(f'Arroz                 preço {preço_Arroz:.2f} quantidade {quant_Arroz:>3}kg, Total {total_Arroz:>1.2f}\\n'\n",
        "      f'Feijão                preço {preço_do_feijão:>5.2f} quantidade {quant_Feijão:>3}kg, Total {total_feijão:>1.2f}\\n'\n",
        "      f'Açúcar                preço {preço_do_Açucar:>5.2f} quantidade {quant_Açúcar:>3}kg, Total {total_Açucar:>5.2f}\\n'\n",
        "      f'Batata                preço {preço_da_Batata:>5.2f} quantidade {quant_Batata:>3}kg, Total {total_Batata:>5.2f}\\n'\n",
        "      f'Óleo                  preço {preço_do_Óleo:>5.2f} quantidade {quant_Óleo:>3}kg, Total {total_Óleo:>5.2f}\\n'\n",
        "      f'Bolacha de água e sal preço {preço_da_Bolacha_de_Água_e_Sal:>5.2f} quantidade {quant_Bolacha_de_Água_e_Sal:>3}kg, Total {total_Bolacha_de_Água_e_Sal:>5.2f}\\n'\n",
        "      f'Banana                preço {preço_da_Banana:>5.2f} quantidade {quant_Banana:>3}kg, Total {total_Banana:>5.2f}\\n'\n",
        "      f'Couve flor            preço {preço_da_Couve_Flor:>5.2f} quantidade {quant_Couve_Flor:>3}kg, Total {total_Couve_Flor:>5.2f}\\n'\n",
        "      f'Leite em pó           preço {preço_do_Leite_em_Pó:>5.2f} quantidade {quant_Leite_em_Pó:>3}kg, Total {total_Leite_em_Pó:>5.2f}\\n'\n",
        "       '-----------------------------------------------------------------\\n'\n",
        "       f'                                                   Total {Total:.2f}\\n'\n",
        "       f'                                          Pagamento em dinheiro')\n",
        "else:\n",
        "  if Total >60:\n",
        "    print(f'Arroz                 preço {preço_Arroz:.2f} quantidade {quant_Arroz:>3}kg, Total {total_Arroz:>1.2f}\\n'\n",
        "      f'Feijão                preço {preço_do_feijão:>5.2f} quantidade {quant_Feijão:>3}kg, Total {total_feijão:>1.2f}\\n'\n",
        "      f'Açúcar                preço {preço_do_Açucar:>5.2f} quantidade {quant_Açúcar:>3}kg, Total {total_Açucar:>5.2f}\\n'\n",
        "      f'Batata                preço {preço_da_Batata:>5.2f} quantidade {quant_Batata:>3}kg, Total {total_Batata:>5.2f}\\n'\n",
        "      f'Óleo                  preço {preço_do_Óleo:>5.2f} quantidade {quant_Óleo:>3}kg, Total {total_Óleo:>5.2f}\\n'\n",
        "      f'Bolacha de água e sal preço {preço_da_Bolacha_de_Água_e_Sal:>5.2f} quantidade {quant_Bolacha_de_Água_e_Sal:>3}kg, Total {total_Bolacha_de_Água_e_Sal:>5.2f}\\n'\n",
        "      f'Banana                preço {preço_da_Banana:>5.2f} quantidade {quant_Banana:>3}kg, Total {total_Banana:>5.2f}\\n'\n",
        "      f'Couve flor            preço {preço_da_Couve_Flor:>5.2f} quantidade {quant_Couve_Flor:>3}kg, Total {total_Couve_Flor:>5.2f}\\n'\n",
        "      f'Leite em pó           preço {preço_do_Leite_em_Pó:>5.2f} quantidade {quant_Leite_em_Pó:>3}kg, Total {total_Leite_em_Pó:>5.2f}\\n'\n",
        "       '-----------------------------------------------------------------\\n'\n",
        "       f'                                                   Total {Total:.2f}\\n'\n",
        "       f'                   Pagamento no cartão de crédito e até 6 vezes')\n"
      ],
      "metadata": {
        "colab": {
          "base_uri": "https://localhost:8080/"
        },
        "id": "2Dk-EswSwVno",
        "outputId": "0daa0f18-2974-4d33-f6e5-547c25a2ab75"
      },
      "execution_count": null,
      "outputs": [
        {
          "output_type": "stream",
          "name": "stdout",
          "text": [
            "Arroz                 preço 10.00 quantidade   5kg, Total 50.00\n",
            "Feijão                preço  5.00 quantidade   3kg, Total 15.00\n",
            "Açúcar                preço  3.00 quantidade   2kg, Total  6.00\n",
            "Batata                preço  2.50 quantidade   3kg, Total  7.50\n",
            "Óleo                  preço  4.00 quantidade   5kg, Total 20.00\n",
            "Bolacha de água e sal preço  1.30 quantidade   1kg, Total  1.30\n",
            "Banana                preço  3.00 quantidade 1.5kg, Total  4.50\n",
            "Couve flor            preço  1.00 quantidade   2kg, Total  2.00\n",
            "Leite em pó           preço  4.00 quantidade   2kg, Total  8.00\n",
            "-----------------------------------------------------------------\n",
            "                                                   Total 114.30\n",
            "                   Pagamento no cartão de crédito e até 6 vezes\n"
          ]
        }
      ]
    },
    {
      "cell_type": "markdown",
      "source": [
        "Exercício 4: Um desenvolvedor de software para uma estação meteorológica tem que fazer a leitura das seguintes variáveis para o dia corrente, e dar previsões para o dia seguinte, conforme as condições:  \n",
        "\n",
        "- Variáveis:  \n",
        "\n",
        "→ Temperatura;  \n",
        "\n",
        "→ Umidade Relativa do Ar;  \n",
        "\n",
        "- Condições:  \n",
        "\n",
        "**Se** (Temperatura ≥ 28ºC and Umidade Relativa do Ar ≥ 50%)  \n",
        "\n",
        "**Previsão**: “irá chover amanhã”;  \n",
        "\n",
        "**Senão**: \n",
        "\n",
        " **Previsão**: “amanhã o dia será sem chuvas”;  \n",
        "\n",
        "- Escrever código em Python para ler as variáveis, mostrar os seus valores no console;  \n",
        "\n",
        "- Mostrar a previsão do tempo para o dia seguinte, simulando algumas possibilidades. "
      ],
      "metadata": {
        "id": "6dV7FaVzzuF8"
      }
    },
    {
      "cell_type": "code",
      "execution_count": null,
      "metadata": {
        "id": "rVPAh6YGUokl",
        "colab": {
          "base_uri": "https://localhost:8080/"
        },
        "outputId": "7e5edd35-ea12-40a6-9cd7-e0f5774580fa"
      },
      "outputs": [
        {
          "name": "stdout",
          "output_type": "stream",
          "text": [
            "Temperatura:30\n",
            "Umidade Relativa do Ar: 40\n"
          ]
        }
      ],
      "source": [
        "Temperatura= float(input('Temperatura:')) \n",
        "Umidade_Relativa_do_Ar=float(input('Umidade Relativa do Ar: ')) "
      ]
    },
    {
      "cell_type": "code",
      "source": [
        "if Temperatura >=28 and Umidade_Relativa_do_Ar >= 50:\n",
        "  print(f'Temperatura:{Temperatura}°C'\n",
        "        f'\\nUmidade_Relativa_do_Ar: {Umidade_Relativa_do_Ar}%' \n",
        "        f'\\nIrá chover Amanha')\n",
        "else:\n",
        "  print(f'Temperatura:{Temperatura}°C'\n",
        "        f'\\nUmidade_Relativa_do_Ar:{Umidade_Relativa_do_Ar}%'\n",
        "        f'\\nAmanhã o dia será sem chuvas') "
      ],
      "metadata": {
        "colab": {
          "base_uri": "https://localhost:8080/"
        },
        "id": "PV8792Tf0avV",
        "outputId": "13e5fe28-4632-49b6-94dc-b91fde350ab6"
      },
      "execution_count": null,
      "outputs": [
        {
          "output_type": "stream",
          "name": "stdout",
          "text": [
            "Temperatura:30.0°C\n",
            "Umidade_Relativa_do_Ar:40.0%\n",
            "Amanhã o dia será sem chuvas\n"
          ]
        }
      ]
    },
    {
      "cell_type": "markdown",
      "source": [
        "Exercício 5: Construir código em Python que possa calcular a média aritmética do aluno selecionado e retornar no console se o mesmo está aprovado (média ≥ 5.0) ou reprovado. Mostrar no console todas as notas do aluno selecionado →utilizar elif para selecionar o aluno. Simular para pelo menos três alunos. "
      ],
      "metadata": {
        "id": "3yUXhLRw5oUa"
      }
    },
    {
      "cell_type": "code",
      "source": [
        "Aluno=str(input('digite o nome do aluno/a: '))\n",
        "História=float(input('digite a nota de História: '))\n",
        "Geografia= float(input('digite a nota de Geografia: '))\n",
        "Português=float(input('digite a nota de Português: '))\n",
        "Matemática=float(input('digite a nota de Matemática: '))\n",
        "Ciências=float(input('digite a nota de Ciências: '))\n",
        "Literatura=float(input('digite a nota de Literatura: '))"
      ],
      "metadata": {
        "colab": {
          "base_uri": "https://localhost:8080/"
        },
        "id": "fv-ij0qu6QQP",
        "outputId": "89b1b52c-6fae-4671-bee7-69bdc10785ef"
      },
      "execution_count": null,
      "outputs": [
        {
          "name": "stdout",
          "output_type": "stream",
          "text": [
            "digite o nome do aluno/a: Maria\n",
            "digite a nota de História: 5.6\n",
            "digite a nota de Geografia: 6.7\n",
            "digite a nota de Português: 7\n",
            "digite a nota de Matemática: 10\n",
            "digite a nota de Ciências: 4\n",
            "digite a nota de Literatura: 8\n"
          ]
        }
      ]
    },
    {
      "cell_type": "code",
      "source": [
        "if (Literatura+História+Geografia+Português+Matemática+Ciências)/6 >=5:\n",
        "  print(f'Aluno/a: {Aluno}\\n'\n",
        "      f'História: {História}\\n'\n",
        "      f'Geografia: {Geografia}\\n'\n",
        "      f'Português: {Português}\\n'\n",
        "      f'Matemática: {Matemática}\\n'\n",
        "      f'Ciências: {Ciências}\\n'\n",
        "      f'Literatura: {Literatura}\\n'\n",
        "      f'Média: {(Literatura+História+Geografia+Português+Matemática+Ciências)/6:.2f}\\n'\n",
        "      f'Situação: Aprovado')\n",
        "elif(Literatura+História+Geografia+Português+Matemática+Ciências)/6 < 5:\n",
        "  print(f'Aluno/a: {Aluno}\\n'\n",
        "      f'História: {História}\\n'\n",
        "      f'Geografia: {Geografia}\\n'\n",
        "      f'Português: {Português}\\n'\n",
        "      f'Matemática: {Matemática}\\n'\n",
        "      f'Ciências: {Ciências}\\n'\n",
        "      f'Literatura: {Literatura}\\n'\n",
        "      f'Média: {(Literatura+História+Geografia+Português+Matemática+Ciências)/6:.2f}\\n'\n",
        "      f'Situação: reprovado')"
      ],
      "metadata": {
        "colab": {
          "base_uri": "https://localhost:8080/"
        },
        "id": "KNnC3hFfA5BV",
        "outputId": "08997ffc-ecd6-412d-9a6f-f5a8d3a03e07"
      },
      "execution_count": null,
      "outputs": [
        {
          "output_type": "stream",
          "name": "stdout",
          "text": [
            "Aluno/a: Maria\n",
            "História: 5.6\n",
            "Geografia: 6.7\n",
            "Português: 7.0\n",
            "Matemática: 10.0\n",
            "Ciências: 4.0\n",
            "Literatura: 8.0\n",
            "Média: 6.88\n",
            "Situação: Aprovado\n"
          ]
        }
      ]
    },
    {
      "cell_type": "code",
      "source": [],
      "metadata": {
        "id": "MhVKkDPpEX86"
      },
      "execution_count": null,
      "outputs": []
    }
  ],
  "metadata": {
    "colab": {
      "provenance": [],
      "authorship_tag": "ABX9TyMupWA3H+lOd4rfIVwXTieh",
      "include_colab_link": true
    },
    "kernelspec": {
      "display_name": "Python 3",
      "name": "python3"
    },
    "language_info": {
      "name": "python"
    }
  },
  "nbformat": 4,
  "nbformat_minor": 0
}